{
 "cells": [
  {
   "cell_type": "code",
   "execution_count": 438,
   "id": "7e93c574",
   "metadata": {},
   "outputs": [],
   "source": [
    "#%run GT4agent_Astar_Dijkstra.ipynb\n",
    "%run GT4RandGridenv.ipynb\n",
    "%run GT4vis.ipynb"
   ]
  },
  {
   "cell_type": "code",
   "execution_count": 439,
   "id": "d9715a1d",
   "metadata": {},
   "outputs": [],
   "source": [
    "\n",
    "import matplotlib.pyplot as plt\n",
    "import numpy as np\n"
   ]
  },
  {
   "cell_type": "code",
   "execution_count": 440,
   "id": "00a39f74",
   "metadata": {},
   "outputs": [],
   "source": [
    "import heapq\n",
    "\n",
    "def dijkstra_search(grid, start, goal):\n",
    "    neighbors = [(0, 1), (1, 0), (0, -1), (-1, 0)]  # Right, Down, Left, Up\n",
    "    open_set = []\n",
    "    heapq.heappush(open_set, (0, start))\n",
    "    came_from = {}\n",
    "    gscore = {start: 0}\n",
    "\n",
    "    while open_set:\n",
    "        current_cost, current = heapq.heappop(open_set)\n",
    "\n",
    "        if current == goal:\n",
    "            path = []\n",
    "            while current in came_from:\n",
    "                path.append(current)\n",
    "                current = came_from[current]\n",
    "            return path[::-1]\n",
    "\n",
    "        for dx, dy in neighbors:\n",
    "            neighbor = current[0] + dx, current[1] + dy\n",
    "            if 0 <= neighbor[0] < len(grid) and 0 <= neighbor[1] < len(grid[0]) and grid[neighbor[0]][neighbor[1]] == 1:\n",
    "                tentative_g_score = current_cost + 1\n",
    "                if tentative_g_score < gscore.get(neighbor, float('inf')):\n",
    "                    came_from[neighbor] = current\n",
    "                    gscore[neighbor] = tentative_g_score\n",
    "                    heapq.heappush(open_set, (tentative_g_score, neighbor))\n",
    "\n",
    "    return []  # No path found"
   ]
  },
  {
   "cell_type": "code",
   "execution_count": 441,
   "id": "1b6af5e3",
   "metadata": {},
   "outputs": [],
   "source": [
    "def translate_step_to_action(current_position, next_step):\n",
    "    dx, dy = next_step[0] - current_position[0], next_step[1] - current_position[1]\n",
    "\n",
    "    # Validate if the step is valid (either 1 step horizontally or vertically)\n",
    "    if abs(dx) > 1 or abs(dy) > 1 or (dx != 0 and dy != 0):\n",
    "        # If the step is more than 1 unit or diagonal, it's invalid\n",
    "        return None\n",
    "\n",
    "    # Translate valid steps into actions\n",
    "    if dx == 1 and dy == 0:  # Moving right\n",
    "        return 0\n",
    "    elif dx == 0 and dy == 1:  # Moving up\n",
    "        return 1\n",
    "    elif dx == -1 and dy == 0:  # Moving left\n",
    "        return 2\n",
    "    elif dx == 0 and dy == -1:  # Moving down\n",
    "        return 3\n",
    "\n",
    "    # If reached here, it's an unexpected case, return None\n",
    "    return None"
   ]
  },
  {
   "cell_type": "code",
   "execution_count": 444,
   "id": "b40954f5",
   "metadata": {},
   "outputs": [
    {
     "name": "stdout",
     "output_type": "stream",
     "text": [
      "Skipping invalid step from (3, 5) to (3, 7)\n",
      "Skipping invalid step from (3, 5) to (4, 7)\n",
      "Skipping invalid step from (3, 5) to (5, 7)\n",
      "Skipping invalid step from (3, 5) to (5, 8)\n",
      "Skipping invalid step from (3, 5) to (6, 8)\n",
      "Skipping invalid step from (3, 5) to (7, 8)\n",
      "Skipping invalid step from (3, 5) to (8, 8)\n",
      "Skipping invalid step from (3, 5) to (9, 8)\n",
      "Skipping invalid step from (3, 5) to (9, 9)\n",
      "Skipping invalid step from (3, 5) to (9, 10)\n",
      "Skipping invalid step from (3, 5) to (9, 11)\n",
      "Skipping invalid step from (3, 5) to (8, 11)\n",
      "Skipping invalid step from (3, 5) to (8, 12)\n"
     ]
    },
    {
     "data": {
      "image/png": "[encoded data removed]",
      "text/plain": [
       "<Figure size 432x288 with 1 Axes>"
      ]
     },
     "metadata": {},
     "output_type": "display_data"
    }
   ],
   "source": [
    "# Initialize the environment\n",
    "env = RandGridWorldEnv(size=20)\n",
    "env.reset()\n",
    "\n",
    "start = tuple(env._agent_location)\n",
    "goal = tuple(env._target_location)\n",
    "path = dijkstra_search(env._grid, start, goal)\n",
    "\n",
    "# Simulate the agent's movement\n",
    "# Simulate the agent's movement\n",
    "for next_step in path[1:]:\n",
    "    action = translate_step_to_action(env._agent_location, next_step)\n",
    "    if action is not None:\n",
    "        state, reward, done, info = env.step(action)\n",
    "        \n",
    "        # env.render()  # Optionally render the environment at each step\n",
    "    else:\n",
    "        print(f\"Skipping invalid step from {env._agent_location} to {next_step}\")\n",
    "\n",
    "visualize5(env._grid, path, start, goal)\n",
    "env.close()  # Close the environment when done"
   ]
  },
  {
   "cell_type": "code",
   "execution_count": null,
   "id": "2a9c843a",
   "metadata": {},
   "outputs": [],
   "source": []
  },
  {
   "cell_type": "code",
   "execution_count": null,
   "id": "fbcd24ec",
   "metadata": {},
   "outputs": [],
   "source": []
  },
  {
   "cell_type": "code",
   "execution_count": null,
   "id": "19e9938f",
   "metadata": {},
   "outputs": [],
   "source": []
  },
  {
   "cell_type": "code",
   "execution_count": null,
   "id": "3a1663c8",
   "metadata": {},
   "outputs": [],
   "source": []
  }
 ],
 "metadata": {
  "kernelspec": {
   "display_name": "Python 3 (ipykernel)",
   "language": "python",
   "name": "python3"
  },
  "language_info": {
   "codemirror_mode": {
    "name": "ipython",
    "version": 3
   },
   "file_extension": ".py",
   "mimetype": "text/x-python",
   "name": "python",
   "nbconvert_exporter": "python",
   "pygments_lexer": "ipython3",
   "version": "3.9.7"
  }
 },
 "nbformat": 4,
 "nbformat_minor": 5
}
