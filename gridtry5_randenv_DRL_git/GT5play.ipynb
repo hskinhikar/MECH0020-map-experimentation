{
 "cells": [
  {
   "cell_type": "code",
   "execution_count": 1,
   "id": "72fbdefb",
   "metadata": {},
   "outputs": [],
   "source": [
    "\n",
    "%run GT5RandGridenv.ipynb\n",
    "%run GT5vis.ipynb"
   ]
  },
  {
   "cell_type": "code",
   "execution_count": 2,
   "id": "360f6d2d",
   "metadata": {},
   "outputs": [],
   "source": [
    "# Initialize the environment\n",
    "#env = RandGridWorldEnv(size=10)\n",
    "\n",
    "# Reset the environment and check the initial observation\n",
    "#observation_info = env.reset()\n",
    "#observation = observation_info[0]\n",
    "#start = observation['agent'] \n",
    "#print(\"Initial observation:\", observation)"
   ]
  },
  {
   "cell_type": "code",
   "execution_count": 3,
   "id": "c381d07c",
   "metadata": {},
   "outputs": [
    {
     "data": {
      "image/png": "[encoded data removed]",
      "text/plain": [
       "<Figure size 432x288 with 1 Axes>"
      ]
     },
     "metadata": {
      "needs_background": "light"
     },
     "output_type": "display_data"
    }
   ],
   "source": [
    "import numpy as np\n",
    "import gymnasium as gym\n",
    "\n",
    "# Assuming the RandGridWorldEnv class is defined in the notebook\n",
    "# from RandGridWorldEnv import RandGridWorldEnv\n",
    "\n",
    "# Initialize the environment\n",
    "env = RandGridWorldEnv(size=10)\n",
    "# Reset the environment and check the initial observation\n",
    "observation_info = env.reset()\n",
    "observation = observation_info[0]\n",
    "start1 = observation['agent'] \n",
    "# Number of states and actions\n",
    "num_states = env.size ** 2\n",
    "num_actions = env.action_space.n\n",
    "\n",
    "# Initialize the Q-table\n",
    "Q = np.zeros((num_states, num_actions))\n",
    "\n",
    "# Hyperparameters\n",
    "alpha = 0.1  # Learning rate\n",
    "gamma = 0.99  # Discount factor\n",
    "epsilon = 1.0  # Exploration rate\n",
    "min_epsilon = 0.01\n",
    "epsilon_decay_rate = 0.995\n",
    "total_episodes = 10#1000\n",
    "\n",
    "# Initialize a list to store the path of the agent in the final episode\n",
    "final_episode_path = []\n",
    "\n",
    "# Function to convert a grid position to a state index\n",
    "def position_to_state(position, size):\n",
    "    return position[0] * size + position[1]\n",
    "\n",
    "# Function to calculate Manhattan distance\n",
    "def manhattan_distance(pos1, pos2):\n",
    "    return abs(pos1[0] - pos2[0]) + abs(pos1[1] - pos2[1])\n",
    "\n",
    "# Initialize a list to store the total reward per episode\n",
    "total_rewards_per_episode = []\n",
    "\n",
    "# Training loop\n",
    "for episode in range(total_episodes):\n",
    "    # Reset the environment and get the initial observation\n",
    "    observation, _ = env.reset()  # Unpack the tuple\n",
    "    agent_position = observation['agent']\n",
    "    target_position = observation['target']\n",
    "\n",
    "    state = position_to_state(agent_position, env.size)\n",
    "    previous_distance = manhattan_distance(agent_position, target_position)\n",
    "    cumulative_reward = 0\n",
    "\n",
    "    \n",
    "  \n",
    "    \n",
    "    # Record the path for the final episode\n",
    "    if episode == total_episodes - 1:\n",
    "        final_episode_path.append(agent_position)\n",
    "\n",
    "    done = False\n",
    "    while not done:\n",
    "        # Epsilon-greedy action selection\n",
    "        if np.random.uniform(0, 1) < epsilon:\n",
    "            action = env.action_space.sample()  # Explore\n",
    "        else:\n",
    "            action = np.argmax(Q[state])  # Exploit\n",
    "\n",
    "        # Take action and get next observation\n",
    "        next_observation, reward, done, _, info = env.step(action)  # Unpack all returned values\n",
    "\n",
    "        next_agent_position = next_observation['agent']\n",
    "        next_state = position_to_state(next_agent_position, env.size)\n",
    "\n",
    "        # Calculate the reward based on distance to target\n",
    "        current_distance = manhattan_distance(next_agent_position, target_position)\n",
    "        distance_reward = 1 if current_distance < previous_distance else -1\n",
    "\n",
    "        # Optionally combine distance_reward with the environment's reward\n",
    "        total_reward = distance_reward + reward\n",
    "        \n",
    "         # Accumulate rewards\n",
    "        cumulative_reward += total_reward  # <-- Add this line to update cumulative_reward\n",
    "        \n",
    "         # Record the path for the final episode\n",
    "        if episode == total_episodes - 1:\n",
    "            final_episode_path.append(next_agent_position)\n",
    " \n",
    "        # Update Q-table\n",
    "        Q[state, action] = Q[state, action] + alpha * (total_reward + gamma * np.max(Q[next_state]) - Q[state, action])\n",
    "\n",
    "        state = next_state\n",
    "        previous_distance = current_distance\n",
    "    \n",
    "\n",
    "    # Reduce exploration rate\n",
    "    epsilon = max(min_epsilon, epsilon * epsilon_decay_rate)\n",
    "    total_rewards_per_episode.append(cumulative_reward)\n",
    "\n",
    "    \n",
    "    \n",
    "# After the training loop, plot the learning curve\n",
    "plt.plot(total_rewards_per_episode)\n",
    "plt.title('Learning Curve')\n",
    "plt.xlabel('Episodes')\n",
    "plt.ylabel('Total Reward')\n",
    "plt.show()"
   ]
  },
  {
   "cell_type": "code",
   "execution_count": 4,
   "id": "451b2307",
   "metadata": {},
   "outputs": [
    {
     "data": {
      "image/png": "[encoded data removed]",
      "text/plain": [
       "<Figure size 432x288 with 1 Axes>"
      ]
     },
     "metadata": {},
     "output_type": "display_data"
    }
   ],
   "source": [
    "#start = (env._agent_location[0], env._agent_location[1])  # Swap if necessary\n",
    "goal = (env._target_location[0], env._target_location[1])  # Swap if necessary\n",
    "\n",
    "# Call the visualization function\n",
    "visualize5(env._grid, final_episode_path, start1, goal)\n",
    "#visualize5(env._grid, final_episode_path, env._agent_location, env._target_location)\n",
    "#env.close()  # Close the environment when done"
   ]
  },
  {
   "cell_type": "code",
   "execution_count": null,
   "id": "ae1296d9",
   "metadata": {},
   "outputs": [],
   "source": []
  },
  {
   "cell_type": "code",
   "execution_count": null,
   "id": "54e19d31",
   "metadata": {},
   "outputs": [],
   "source": []
  },
  {
   "cell_type": "code",
   "execution_count": null,
   "id": "a7c05fe4",
   "metadata": {},
   "outputs": [],
   "source": []
  }
 ],
 "metadata": {
  "kernelspec": {
   "display_name": "Python 3 (ipykernel)",
   "language": "python",
   "name": "python3"
  },
  "language_info": {
   "codemirror_mode": {
    "name": "ipython",
    "version": 3
   },
   "file_extension": ".py",
   "mimetype": "text/x-python",
   "name": "python",
   "nbconvert_exporter": "python",
   "pygments_lexer": "ipython3",
   "version": "3.9.7"
  }
 },
 "nbformat": 4,
 "nbformat_minor": 5
}
