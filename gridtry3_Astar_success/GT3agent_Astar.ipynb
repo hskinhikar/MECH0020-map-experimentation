{
 "cells": [
  {
   "cell_type": "code",
   "execution_count": 1,
   "id": "6a8e9e83",
   "metadata": {},
   "outputs": [],
   "source": [
    "import heapq"
   ]
  },
  {
   "cell_type": "code",
   "execution_count": 2,
   "id": "1da74ca0",
   "metadata": {},
   "outputs": [],
   "source": [
    "import numpy as np\n",
    "import matplotlib.pyplot as plt\n",
    "\n",
    "# A* Algorithm Implementation\n",
    "class AStarAgent:\n",
    "    def __init__(self, start, goal, grid):\n",
    "        self.start = start\n",
    "        self.goal = goal\n",
    "        self.grid = grid\n",
    "        self.open_set = []\n",
    "        heapq.heappush(self.open_set, (0, self.start))\n",
    "        self.came_from = {}  # To track the path\n",
    "        \n",
    "    def neighbors(self, node):\n",
    "        directions = [(0, 1), (1, 0), (0, -1), (-1, 0)]  # Down, Right, Up, Left\n",
    "        result = []\n",
    "        for dx, dy in directions:\n",
    "            x, y = node[0] + dx, node[1] + dy\n",
    "            if 0 <= x < len(self.grid) and 0 <= y < len(self.grid[0]) and self.grid[x][y] == 1:\n",
    "                result.append((x, y))\n",
    "        return result\n",
    "\n",
    "\n",
    "    def heuristic(self, current, goal):\n",
    "        return abs(current[0] - goal[0]) + abs(current[1] - goal[1])\n",
    "\n",
    "    def find_path(self):\n",
    "        \n",
    "        rows = len(self.grid)\n",
    "        cols = len(self.grid[0])\n",
    "\n",
    "        # Initialize g_score and f_score for every cell in the grid\n",
    "        g_score = {(x, y): float('inf') for x in range(rows) for y in range(cols)}\n",
    "        f_score = {(x, y): float('inf') for x in range(rows) for y in range(cols)}\n",
    "\n",
    "        g_score[self.start] = 0\n",
    "        f_score[self.start] = self.heuristic(self.start, self.goal)\n",
    "\n",
    "        while self.open_set:\n",
    "            current = heapq.heappop(self.open_set)[1]\n",
    "\n",
    "            if current == self.goal:\n",
    "                return self.reconstruct_path()\n",
    "\n",
    "            for neighbor in self.neighbors(current):\n",
    "                tentative_g_score = g_score[current] + 1  # Assuming uniform cost\n",
    "                if tentative_g_score < g_score[neighbor]:\n",
    "                    self.came_from[neighbor] = current\n",
    "                    g_score[neighbor] = tentative_g_score\n",
    "                    f_score[neighbor] = tentative_g_score + self.heuristic(neighbor, self.goal)\n",
    "                    if neighbor not in [i[1] for i in self.open_set]:\n",
    "                        heapq.heappush(self.open_set, (f_score[neighbor], neighbor))\n",
    "\n",
    "        return result if result is not None else []\n",
    "    \n",
    "    def reconstruct_path(self):\n",
    "        current = self.goal\n",
    "        path = [current]\n",
    "        while current in self.came_from:\n",
    "            current = self.came_from[current]\n",
    "            path.append(current)\n",
    "        path.reverse()\n",
    "        return path\n",
    "    # Additional methods as needed\n",
    "    \n",
    "    \n",
    "  "
   ]
  },
  {
   "cell_type": "code",
   "execution_count": null,
   "id": "599bc4f0",
   "metadata": {},
   "outputs": [],
   "source": [
    "\n"
   ]
  },
  {
   "cell_type": "code",
   "execution_count": null,
   "id": "0c951b0f",
   "metadata": {},
   "outputs": [],
   "source": []
  },
  {
   "cell_type": "markdown",
   "id": "1695c310",
   "metadata": {},
   "source": []
  }
 ],
 "metadata": {
  "kernelspec": {
   "display_name": "Python 3 (ipykernel)",
   "language": "python",
   "name": "python3"
  },
  "language_info": {
   "codemirror_mode": {
    "name": "ipython",
    "version": 3
   },
   "file_extension": ".py",
   "mimetype": "text/x-python",
   "name": "python",
   "nbconvert_exporter": "python",
   "pygments_lexer": "ipython3",
   "version": "3.9.7"
  }
 },
 "nbformat": 4,
 "nbformat_minor": 5
}
