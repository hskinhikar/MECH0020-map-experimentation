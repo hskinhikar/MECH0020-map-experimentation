{
 "cells": [
  {
   "cell_type": "code",
   "execution_count": 4,
   "id": "8088b23d",
   "metadata": {},
   "outputs": [
    {
     "name": "stdout",
     "output_type": "stream",
     "text": [
      "pygame 2.1.0 (SDL 2.0.16, Python 3.9.7)\n",
      "Hello from the pygame community. https://www.pygame.org/contribute.html\n"
     ]
    }
   ],
   "source": [
    "%run GT3agent_Astar.ipynb\n",
    "%run GT3env.ipynb\n",
    "%run GT3vis.ipynb"
   ]
  },
  {
   "cell_type": "code",
   "execution_count": null,
   "id": "3107ebce",
   "metadata": {},
   "outputs": [],
   "source": []
  },
  {
   "cell_type": "code",
   "execution_count": 6,
   "id": "db287953",
   "metadata": {},
   "outputs": [
    {
     "data": {
      "image/png": "[encoded data removed]",
      "text/plain": [
       "<Figure size 432x288 with 1 Axes>"
      ]
     },
     "metadata": {
      "needs_background": "light"
     },
     "output_type": "display_data"
    }
   ],
   "source": [
    "# Load your environment grid (you need to define this based on your environment)\n",
    "\n",
    "grid = [\n",
    "    [1, 1, 1, 1, 1,0,1],  # Row 0\n",
    "    [1, 0, 1, 1, 0,1,0],  # Row 1\n",
    "    [1, 1, 0, 1, 1,0,1],  # Row 2\n",
    "    [1, 0, 1, 1, 1,0,1],  # Row 3\n",
    "    [1, 0, 1, 0, 1,1,0],  # Row 4\n",
    "    [0, 0, 0, 0, 0,1,1],  # Row 5\n",
    "    [1, 1, 1, 1, 1,1,1],  # Row 6\n",
    "]\n",
    "\n",
    "# Define start and goal locations\n",
    "start = (0,2)\n",
    "goal = (6,0)\n",
    "\n",
    "# Create A* agent and find path\n",
    "agent = AStarAgent(start, goal, grid)\n",
    "path = agent.find_path()\n",
    "\n",
    "# Visualize\n",
    "visualize(grid, path, start, goal)"
   ]
  },
  {
   "cell_type": "code",
   "execution_count": null,
   "id": "b1b74165",
   "metadata": {},
   "outputs": [],
   "source": []
  },
  {
   "cell_type": "code",
   "execution_count": null,
   "id": "23f42786",
   "metadata": {},
   "outputs": [],
   "source": []
  }
 ],
 "metadata": {
  "kernelspec": {
   "display_name": "Python 3 (ipykernel)",
   "language": "python",
   "name": "python3"
  },
  "language_info": {
   "codemirror_mode": {
    "name": "ipython",
    "version": 3
   },
   "file_extension": ".py",
   "mimetype": "text/x-python",
   "name": "python",
   "nbconvert_exporter": "python",
   "pygments_lexer": "ipython3",
   "version": "3.9.7"
  }
 },
 "nbformat": 4,
 "nbformat_minor": 5
}
