{
 "cells": [
  {
   "cell_type": "code",
   "execution_count": 1,
   "id": "6beef76f",
   "metadata": {},
   "outputs": [],
   "source": [
    "import matplotlib.pyplot as plt\n",
    "import numpy as np\n",
    "\n",
    "def visualize(grid, path, start, goal):\n",
    "    grid_array = np.array(grid)\n",
    "    fig, ax = plt.subplots()\n",
    "    \n",
    "    # Use 'origin=lower' to ensure that (0,0) is at the top-left\n",
    "    ax.imshow(grid_array, cmap=plt.cm.Dark2, origin='upper')\n",
    "\n",
    "    # Swap the start and goal coordinates for plotting\n",
    "    ax.plot(start[1], start[0], 'go', markersize=10, label=\"Start\")  # Plot (column, row) instead of (row, column)\n",
    "    ax.plot(goal[1], goal[0], 'r*', markersize=15, label=\"Goal\")\n",
    "\n",
    "    # Swap the path coordinates for plotting\n",
    "    for point in path:\n",
    "        ax.plot(point[1], point[0], 'b.', markersize=8)  # Plot (column, row) for each point in path\n",
    "\n",
    "    # Draw grid lines\n",
    "    for x in range(len(grid_array[0])):  # Columns\n",
    "        ax.axvline(x - 0.5, lw=2, color='k', zorder=5)\n",
    "    for y in range(len(grid_array)):  # Rows\n",
    "        ax.axhline(y - 0.5, lw=2, color='k', zorder=5)\n",
    "\n",
    "    ax.set_xlabel('Columns')\n",
    "    ax.set_ylabel('Rows')\n",
    "    \n",
    "    # Set the axis limits to include all squares\n",
    "    ax.set_xlim(-0.5, len(grid_array[0]) - 0.5)\n",
    "    ax.set_ylim(-0.5, len(grid_array) - 0.5)\n",
    "\n",
    "    # Ensure the aspect ratio is equal to make the cells square\n",
    "    ax.set_aspect('equal')\n",
    "\n",
    "    # Invert y-axis to have (0,0) at the top-left\n",
    "    ax.invert_yaxis()\n",
    "\n",
    "    plt.legend()\n",
    "    plt.show()\n",
    "\n",
    "# Call the visualize function with your grid, path, start, and goal\n",
    "# visualize(grid, path, start, goal)\n"
   ]
  },
  {
   "cell_type": "code",
   "execution_count": null,
   "id": "6bac12e3",
   "metadata": {},
   "outputs": [],
   "source": []
  },
  {
   "cell_type": "code",
   "execution_count": null,
   "id": "38092f48",
   "metadata": {},
   "outputs": [],
   "source": []
  }
 ],
 "metadata": {
  "kernelspec": {
   "display_name": "Python 3 (ipykernel)",
   "language": "python",
   "name": "python3"
  },
  "language_info": {
   "codemirror_mode": {
    "name": "ipython",
    "version": 3
   },
   "file_extension": ".py",
   "mimetype": "text/x-python",
   "name": "python",
   "nbconvert_exporter": "python",
   "pygments_lexer": "ipython3",
   "version": "3.9.7"
  }
 },
 "nbformat": 4,
 "nbformat_minor": 5
}
